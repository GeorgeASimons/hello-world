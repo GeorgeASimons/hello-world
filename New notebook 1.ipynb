{
 "cells": [
  {
   "cell_type": "markdown",
   "metadata": {
    "collapsed": true
   },
   "source": [
    "#\n",
    "Instructions"
   ]
  },
  {
   "cell_type": "code",
   "execution_count": null,
   "metadata": {},
   "outputs": [],
   "source": [
    "x = 2\n",
    "y = x + 5 + 3\n",
    "y"
   ]
  },
  {
   "cell_type": "code",
   "execution_count": 2,
   "metadata": {},
   "outputs": [
    {
     "data": {
      "text/plain": [
       "'8 7 a b n'"
      ]
     },
     "execution_count": 2,
     "metadata": {},
     "output_type": "execute_result"
    }
   ],
   "source": [
    "'8 7 a b n'"
   ]
  },
  {
   "cell_type": "code",
   "execution_count": 4,
   "metadata": {},
   "outputs": [
    {
     "data": {
      "text/plain": [
       "'-123'"
      ]
     },
     "execution_count": 4,
     "metadata": {},
     "output_type": "execute_result"
    }
   ],
   "source": [
    "\"-123\""
   ]
  },
  {
   "cell_type": "code",
   "execution_count": 9,
   "metadata": {},
   "outputs": [
    {
     "data": {
      "text/plain": [
       "-123"
      ]
     },
     "execution_count": 9,
     "metadata": {},
     "output_type": "execute_result"
    }
   ],
   "source": [
    "-123"
   ]
  },
  {
   "cell_type": "code",
   "execution_count": 11,
   "metadata": {},
   "outputs": [],
   "source": [
    "student_name = \"George Simons\""
   ]
  },
  {
   "cell_type": "code",
   "execution_count": 12,
   "metadata": {},
   "outputs": [
    {
     "data": {
      "text/plain": [
       "'George Simons'"
      ]
     },
     "execution_count": 12,
     "metadata": {},
     "output_type": "execute_result"
    }
   ],
   "source": [
    "student_name"
   ]
  },
  {
   "cell_type": "code",
   "execution_count": 13,
   "metadata": {},
   "outputs": [
    {
     "name": "stdout",
     "output_type": "stream",
     "text": [
      "George Simons\n"
     ]
    }
   ],
   "source": [
    "print(student_name)"
   ]
  },
  {
   "cell_type": "code",
   "execution_count": 14,
   "metadata": {},
   "outputs": [],
   "source": [
    "student_name = \"Greg Simons\""
   ]
  },
  {
   "cell_type": "code",
   "execution_count": 15,
   "metadata": {},
   "outputs": [
    {
     "name": "stdout",
     "output_type": "stream",
     "text": [
      "Greg Simons\n"
     ]
    }
   ],
   "source": [
    "print(student_name)"
   ]
  },
  {
   "cell_type": "code",
   "execution_count": null,
   "metadata": {},
   "outputs": [],
   "source": [
    "x"
   ]
  },
  {
   "cell_type": "code",
   "execution_count": 3,
   "metadata": {},
   "outputs": [
    {
     "name": "stdout",
     "output_type": "stream",
     "text": [
      "Hello World\n"
     ]
    }
   ],
   "source": [
    "print (\"Hello World\")"
   ]
  },
  {
   "cell_type": "code",
   "execution_count": null,
   "metadata": {},
   "outputs": [],
   "source": []
  },
  {
   "cell_type": "code",
   "execution_count": null,
   "metadata": {},
   "outputs": [],
   "source": [
    "# This is the Hello World ish. \n",
    "print (\"Hello World\")"
   ]
  },
  {
   "cell_type": "code",
   "execution_count": 22,
   "metadata": {},
   "outputs": [
    {
     "name": "stdout",
     "output_type": "stream",
     "text": [
      "<class 'str'>\n"
     ]
    }
   ],
   "source": [
    "print(type(\"123alkjhfdsh\"))"
   ]
  },
  {
   "cell_type": "code",
   "execution_count": 29,
   "metadata": {},
   "outputs": [
    {
     "name": "stdout",
     "output_type": "stream",
     "text": [
      "17\n"
     ]
    }
   ],
   "source": [
    "add_two = 12 +5\n",
    "\n",
    "print (add_two)"
   ]
  },
  {
   "cell_type": "code",
   "execution_count": 25,
   "metadata": {},
   "outputs": [
    {
     "data": {
      "text/plain": [
       "'george simons'"
      ]
     },
     "execution_count": 25,
     "metadata": {},
     "output_type": "execute_result"
    }
   ],
   "source": [
    "\"george \" + \"simons\""
   ]
  },
  {
   "cell_type": "code",
   "execution_count": 40,
   "metadata": {},
   "outputs": [
    {
     "name": "stdout",
     "output_type": "stream",
     "text": [
      "Happy BirthdayGeorge\n"
     ]
    }
   ],
   "source": [
    "first_name = \"George\"\n",
    "greeting = \"Happy Birthday, \" + first_name\n",
    "\n",
    "print(Greeting)"
   ]
  },
  {
   "cell_type": "code",
   "execution_count": 41,
   "metadata": {},
   "outputs": [
    {
     "name": "stdout",
     "output_type": "stream",
     "text": [
      "Happy Birthday, George! today is the day. \n"
     ]
    }
   ],
   "source": [
    "greeting_today = greeting + \"! today is the day. \"\n",
    "\n",
    "print(greeting_today)"
   ]
  },
  {
   "cell_type": "code",
   "execution_count": 44,
   "metadata": {},
   "outputs": [
    {
     "name": "stdout",
     "output_type": "stream",
     "text": [
      "tree\n"
     ]
    }
   ],
   "source": [
    "print(\"tree\")"
   ]
  },
  {
   "cell_type": "code",
   "execution_count": 45,
   "metadata": {},
   "outputs": [
    {
     "ename": "SyntaxError",
     "evalue": "invalid syntax (<ipython-input-45-e9d3982cd246>, line 1)",
     "output_type": "error",
     "traceback": [
      "\u001b[0;36m  File \u001b[0;32m\"<ipython-input-45-e9d3982cd246>\"\u001b[0;36m, line \u001b[0;32m1\u001b[0m\n\u001b[0;31m    new_string = Hello + World!\u001b[0m\n\u001b[0m                              ^\u001b[0m\n\u001b[0;31mSyntaxError\u001b[0m\u001b[0;31m:\u001b[0m invalid syntax\n"
     ]
    }
   ],
   "source": [
    "new_string = Hello + World!"
   ]
  },
  {
   "cell_type": "code",
   "execution_count": 46,
   "metadata": {},
   "outputs": [
    {
     "ename": "TypeError",
     "evalue": "unsupported operand type(s) for +: 'int' and 'str'",
     "output_type": "error",
     "traceback": [
      "\u001b[0;31m---------------------------------------------------------------------------\u001b[0m",
      "\u001b[0;31mTypeError\u001b[0m                                 Traceback (most recent call last)",
      "\u001b[0;32m<ipython-input-46-51836eacb784>\u001b[0m in \u001b[0;36m<module>\u001b[0;34m()\u001b[0m\n\u001b[0;32m----> 1\u001b[0;31m \u001b[0mscore\u001b[0m \u001b[0;34m=\u001b[0m \u001b[0;36m3\u001b[0m \u001b[0;34m+\u001b[0m \u001b[0;34m\"45\"\u001b[0m\u001b[0;34m\u001b[0m\u001b[0m\n\u001b[0m",
      "\u001b[0;31mTypeError\u001b[0m: unsupported operand type(s) for +: 'int' and 'str'"
     ]
    }
   ],
   "source": [
    "score = 3 + \"45\""
   ]
  },
  {
   "cell_type": "code",
   "execution_count": 47,
   "metadata": {},
   "outputs": [
    {
     "ename": "NameError",
     "evalue": "name 'PriNt' is not defined",
     "output_type": "error",
     "traceback": [
      "\u001b[0;31m---------------------------------------------------------------------------\u001b[0m",
      "\u001b[0;31mNameError\u001b[0m                                 Traceback (most recent call last)",
      "\u001b[0;32m<ipython-input-47-65c3307914da>\u001b[0m in \u001b[0;36m<module>\u001b[0;34m()\u001b[0m\n\u001b[0;32m----> 1\u001b[0;31m \u001b[0mPriNt\u001b[0m\u001b[0;34m(\u001b[0m\u001b[0;34m\"Hello World!\"\u001b[0m\u001b[0;34m)\u001b[0m\u001b[0;34m\u001b[0m\u001b[0m\n\u001b[0m",
      "\u001b[0;31mNameError\u001b[0m: name 'PriNt' is not defined"
     ]
    }
   ],
   "source": [
    "PriNt(\"Hello World!\")"
   ]
  },
  {
   "cell_type": "code",
   "execution_count": 48,
   "metadata": {},
   "outputs": [
    {
     "name": "stdout",
     "output_type": "stream",
     "text": [
      "    *\n",
      "   * *\n",
      "  *****\n",
      " *     *\n",
      "*       *\n",
      "\n"
     ]
    }
   ],
   "source": [
    "# the letter 'A'\n",
    "print(\"    *\")\n",
    "print(\"   * *\")\n",
    "print(\"  *****\")\n",
    "print(\" *     *\")\n",
    "print(\"*       *\")\n",
    "print()"
   ]
  },
  {
   "cell_type": "code",
   "execution_count": 52,
   "metadata": {},
   "outputs": [
    {
     "name": "stdout",
     "output_type": "stream",
     "text": [
      "enter a small integer\n",
      "5\n"
     ]
    }
   ],
   "source": [
    "print(\"enter a small integer\")\n",
    "small_int = input()"
   ]
  },
  {
   "cell_type": "code",
   "execution_count": 54,
   "metadata": {},
   "outputs": [
    {
     "name": "stdout",
     "output_type": "stream",
     "text": [
      "the small integer is 5\n"
     ]
    }
   ],
   "source": [
    "print(\"the small integer is \" + small_int)"
   ]
  },
  {
   "cell_type": "code",
   "execution_count": 71,
   "metadata": {},
   "outputs": [
    {
     "name": "stdout",
     "output_type": "stream",
     "text": [
      "enter your name:George\n"
     ]
    }
   ],
   "source": [
    "student_name = input(\"enter your name:\")\n",
    "print(\"Hi, \" + student_name)"
   ]
  },
  {
   "cell_type": "code",
   "execution_count": 59,
   "metadata": {},
   "outputs": [
    {
     "name": "stdout",
     "output_type": "stream",
     "text": [
      "enter your answer: 38\n"
     ]
    },
    {
     "ename": "TypeError",
     "evalue": "unsupported operand type(s) for +: 'int' and 'str'",
     "output_type": "error",
     "traceback": [
      "\u001b[0;31m---------------------------------------------------------------------------\u001b[0m",
      "\u001b[0;31mTypeError\u001b[0m                                 Traceback (most recent call last)",
      "\u001b[0;32m<ipython-input-59-89dd98178654>\u001b[0m in \u001b[0;36m<module>\u001b[0;34m()\u001b[0m\n\u001b[1;32m      1\u001b[0m \u001b[0manswer\u001b[0m \u001b[0;34m=\u001b[0m \u001b[0minput\u001b[0m\u001b[0;34m(\u001b[0m\u001b[0;34m\"enter your answer: \"\u001b[0m\u001b[0;34m)\u001b[0m\u001b[0;34m\u001b[0m\u001b[0m\n\u001b[0;32m----> 2\u001b[0;31m \u001b[0mprint\u001b[0m\u001b[0;34m(\u001b[0m\u001b[0;36m10\u001b[0m \u001b[0;34m+\u001b[0m \u001b[0manswer\u001b[0m\u001b[0;34m)\u001b[0m\u001b[0;34m\u001b[0m\u001b[0m\n\u001b[0m",
      "\u001b[0;31mTypeError\u001b[0m: unsupported operand type(s) for +: 'int' and 'str'"
     ]
    }
   ],
   "source": [
    "answer = input(\"enter your answer: \")  \n",
    "print(10 + answer)"
   ]
  },
  {
   "cell_type": "code",
   "execution_count": 60,
   "metadata": {},
   "outputs": [
    {
     "name": "stdout",
     "output_type": "stream",
     "text": [
      "enter your answer: 38\n",
      "You entered 38\n"
     ]
    }
   ],
   "source": [
    "answer = input(\"enter your answer: \")  \n",
    "print(\"You entered \" + answer) \n"
   ]
  },
  {
   "cell_type": "code",
   "execution_count": 64,
   "metadata": {},
   "outputs": [
    {
     "name": "stdout",
     "output_type": "stream",
     "text": [
      "Hello, George. What's up?\n"
     ]
    }
   ],
   "source": [
    "name = \"George\"\n",
    "print (\"Hello,\", name + \". What's up?\")"
   ]
  },
  {
   "cell_type": "code",
   "execution_count": 68,
   "metadata": {},
   "outputs": [
    {
     "name": "stdout",
     "output_type": "stream",
     "text": [
      "An Integer of 140.0 combined with strings causes 0 TypeErrors in comma formatted print!\n"
     ]
    }
   ],
   "source": [
    "number_errors = 0\n",
    "print(\"An Integer of\", 140.0, \"combined with strings causes\",number_errors,\"TypeErrors in comma formatted print!\")\n"
   ]
  },
  {
   "cell_type": "code",
   "execution_count": 69,
   "metadata": {},
   "outputs": [
    {
     "name": "stdout",
     "output_type": "stream",
     "text": [
      "Welcome the 3 New students!\n"
     ]
    }
   ],
   "source": [
    "print(\"Welcome the\", 3, \"New students!\")"
   ]
  },
  {
   "cell_type": "code",
   "execution_count": 74,
   "metadata": {},
   "outputs": [
    {
     "name": "stdout",
     "output_type": "stream",
     "text": [
      "Welcome the 3 New students!\n"
     ]
    }
   ],
   "source": [
    "print(\"Welcome the\", 3, \"New students!\")"
   ]
  },
  {
   "cell_type": "code",
   "execution_count": 79,
   "metadata": {},
   "outputs": [
    {
     "name": "stdout",
     "output_type": "stream",
     "text": [
      "Enter your name: George\n",
      "George - the total is $ 22.95 for today's purchase\n"
     ]
    }
   ],
   "source": [
    "# python  \n",
    "total_cost = 22.95\n",
    "user_name = input(\"Enter your name: \")\n",
    "\n",
    "print(user_name, \"- the total is $\", total_cost, \"for today's purchase\")"
   ]
  },
  {
   "cell_type": "code",
   "execution_count": 83,
   "metadata": {},
   "outputs": [
    {
     "name": "stdout",
     "output_type": "stream",
     "text": [
      "\"Its\"\n"
     ]
    }
   ],
   "source": [
    "print ('\"Its\"')"
   ]
  },
  {
   "cell_type": "code",
   "execution_count": 106,
   "metadata": {},
   "outputs": [
    {
     "name": "stdout",
     "output_type": "stream",
     "text": [
      "cm height: 176 is all digits = True\n"
     ]
    }
   ],
   "source": [
    "cm_height = \"176\"\n",
    "cm_height.isdigit()\n",
    "\n",
    "print (\"cm height:\", cm_height, \"is all digits =\", cm_height.isdigit())"
   ]
  },
  {
   "cell_type": "code",
   "execution_count": 110,
   "metadata": {},
   "outputs": [
    {
     "data": {
      "text/plain": [
       "True"
      ]
     },
     "execution_count": 110,
     "metadata": {},
     "output_type": "execute_result"
    }
   ],
   "source": [
    "\"15\"    .isdigit()"
   ]
  },
  {
   "cell_type": "code",
   "execution_count": 111,
   "metadata": {},
   "outputs": [
    {
     "data": {
      "text/plain": [
       "True"
      ]
     },
     "execution_count": 111,
     "metadata": {},
     "output_type": "execute_result"
    }
   ],
   "source": [
    "length = \"33\"\n",
    "length.isalnum()"
   ]
  },
  {
   "cell_type": "code",
   "execution_count": 114,
   "metadata": {},
   "outputs": [
    {
     "name": "stdout",
     "output_type": "stream",
     "text": [
      "MS. BROWNING IS IN HER OFFICE.\n"
     ]
    }
   ],
   "source": [
    "print(\"ms. Browning is in her office.\".upper())"
   ]
  },
  {
   "cell_type": "code",
   "execution_count": 121,
   "metadata": {},
   "outputs": [
    {
     "name": "stdout",
     "output_type": "stream",
     "text": [
      "What is your favorite color? Blue\n",
      "bLUE\n"
     ]
    }
   ],
   "source": [
    "fav_color = input (\"What is your favorite color? \")\n",
    "\n",
    "print(fav_color.swapcase())"
   ]
  },
  {
   "cell_type": "code",
   "execution_count": 127,
   "metadata": {},
   "outputs": [
    {
     "name": "stdout",
     "output_type": "stream",
     "text": [
      "True\n"
     ]
    }
   ],
   "source": [
    "menu = (\"pizza and tacos\")\n",
    "\n",
    "print (\"Pizza\".lower() in menu)"
   ]
  },
  {
   "cell_type": "code",
   "execution_count": 128,
   "metadata": {},
   "outputs": [
    {
     "name": "stdout",
     "output_type": "stream",
     "text": [
      "sKYE hOMSI\n"
     ]
    }
   ],
   "source": [
    "name = \"skye homsi\"  \n",
    "name_1 = name.title()\n",
    "name_2 = name_1.swapcase()\n",
    "print(name_2)\n"
   ]
  },
  {
   "cell_type": "code",
   "execution_count": 129,
   "metadata": {},
   "outputs": [
    {
     "name": "stdout",
     "output_type": "stream",
     "text": [
      "True\n"
     ]
    }
   ],
   "source": [
    "name = \"SKYE HOMSI\"\n",
    "print(\"y\" in name.lower())"
   ]
  },
  {
   "cell_type": "markdown",
   "metadata": {},
   "source": [
    "short_str in long_str\n",
    "[ ] get user input for a single word describing something that can be read save in a variable called can_read\n",
    "e.g. - \"website\", \"newspaper\", \"blog\", \"textbook\"\n",
    " \n",
    "\n",
    "[ ] get user input for 3 things can be read\n",
    "save in a variable called can_read_things\n",
    " \n",
    "\n",
    "[ ] print true if the can_read string is found\n",
    "in the can_read_things string variable\n",
    "\n"
   ]
  },
  {
   "cell_type": "code",
   "execution_count": 141,
   "metadata": {},
   "outputs": [
    {
     "name": "stdout",
     "output_type": "stream",
     "text": [
      "Tell me something that you have read: candy wrappers\n"
     ]
    }
   ],
   "source": [
    "# get user input for a single word describing something that can be read save in a variable called can_read \n",
    "# e.g. - \"website\", \"newspaper\", \"blog\", \"textbook\"\n",
    "\n",
    "can_read = input (\"Tell me something that you have read: \")\n"
   ]
  },
  {
   "cell_type": "code",
   "execution_count": 135,
   "metadata": {},
   "outputs": [
    {
     "name": "stdout",
     "output_type": "stream",
     "text": [
      "Tell me three things you have read: Books, newspapers, candy wrappers\n"
     ]
    }
   ],
   "source": [
    "# [ ] get user input for 3 things can be read save in a variable called can_read_things\n",
    "\n",
    "can_read_things = input (\"Tell me three things you have read: \")"
   ]
  },
  {
   "cell_type": "code",
   "execution_count": 142,
   "metadata": {},
   "outputs": [
    {
     "name": "stdout",
     "output_type": "stream",
     "text": [
      "True\n"
     ]
    }
   ],
   "source": [
    "# [ ] print true if the can_read string is found in the can_read_things string variable\n",
    "\n",
    "print (can_read .lower() in can_read_things .lower() )"
   ]
  },
  {
   "cell_type": "markdown",
   "metadata": {},
   "source": [
    "Program: Allergy Check\n",
    "\n",
    "[ ] get user input for categories of food eaten in the last 24 hours\n",
    "save in a variable called input_test\n",
    "example input 01 02 practice Allergy-input  \n",
    "\n",
    "[ ] print True if \"dairy\" is in the input_test string\n",
    "[ ] Test the code so far\n",
    " \n",
    "\n",
    "[ ] modify the print statement to output similar to below\n",
    "example output 01 02 Allergy output \n",
    "Test the code so far trying input including the string \"dairy\" and without\n",
    " \n",
    "\n",
    "[ ] repeat the process checking the input for \"nuts\", challenge add \"Seafood\" and \"chocolate\"\n",
    "[ ] Test your code\n",
    " \n",
    "\n",
    "[ ] challenge: make your code work for input regardless of case, e.g. - print True for \"Nuts\", \"NuTs\", \"NUTS\" or \"nuts\""
   ]
  },
  {
   "cell_type": "code",
   "execution_count": 83,
   "metadata": {},
   "outputs": [
    {
     "name": "stdout",
     "output_type": "stream",
     "text": [
      "What categories of food have you eaten in the last 24 hrs? maple\n",
      "It is False that \"maple\" contains \"dairy\"\n",
      "It is False that \"maple\" contains \"nuts\"\n",
      "It is False that \"maple\" contains \"seafood\"\n",
      "It is False that \"maple\" contains \"chocolate\"\n"
     ]
    }
   ],
   "source": [
    "# Create Allergy check code\n",
    "# then PASTE THIS CODE into edX\n",
    "\n",
    "# [ X] get input for input_test variable\n",
    "input_test = input(\"What categories of food have you eaten in the last 24 hrs? \")\n",
    "\n",
    "# [ X] print \"True\" message if \"dairy\" is in the input or False message if not\n",
    "\n",
    "print (\"It is\", \"dairy\" .lower() in input_test .lower(), \"that\", '\"' + input_test + '\"', 'contains \"dairy\"' )\n",
    "\n",
    "# [ X] print True message if \"nuts\" is in the input or False if not\n",
    "print (\"It is\", \"nuts\" .lower() in input_test .lower(), \"that\", '\"' + input_test + '\"', 'contains \"nuts\"' )\n",
    "\n",
    "# [X ] Challenge: Check if \"seafood\" is in the input - print message\n",
    "print (\"It is\", \"seafood\" .lower() in input_test .lower(), \"that\", '\"' + input_test + '\"', 'contains \"seafood\"' )\n",
    "\n",
    "# [X] Challenge: Check if \"chocolate\" is in the input - print message\n",
    "print (\"It is\", \"chocolate\" .lower() in input_test .lower(), \"that\", '\"' + input_test + '\"', 'contains \"chocolate\"' )"
   ]
  },
  {
   "cell_type": "code",
   "execution_count": 2,
   "metadata": {},
   "outputs": [
    {
     "name": "stdout",
     "output_type": "stream",
     "text": [
      "Hello there!\n",
      "Goodbye\n"
     ]
    }
   ],
   "source": [
    "def say_hi():\n",
    "    print (\"Hello there!\")\n",
    "    print (\"Goodbye\")\n",
    "say_hi()"
   ]
  },
  {
   "cell_type": "code",
   "execution_count": 3,
   "metadata": {},
   "outputs": [
    {
     "name": "stdout",
     "output_type": "stream",
     "text": [
      "33\n"
     ]
    }
   ],
   "source": [
    "def three_3_function():\n",
    "    print (\"33\")\n",
    "three_3_function()"
   ]
  },
  {
   "cell_type": "code",
   "execution_count": 11,
   "metadata": {},
   "outputs": [
    {
     "name": "stdout",
     "output_type": "stream",
     "text": [
      "HAPPY BIRTHDAY!\n"
     ]
    }
   ],
   "source": [
    "test_phrase = \"Happy Birthday\"\n",
    "\n",
    "def yell_it():\n",
    "    print (test_phrase .upper() + \"!\")\n",
    "\n",
    "\n",
    "    \n",
    "yell_it ()"
   ]
  },
  {
   "cell_type": "code",
   "execution_count": 12,
   "metadata": {},
   "outputs": [
    {
     "name": "stdout",
     "output_type": "stream",
     "text": [
      "Hi\n"
     ]
    }
   ],
   "source": [
    "def say_this (phrase):\n",
    "    print (phrase)\n",
    "\n",
    "say_this (\"Hi\")"
   ]
  },
  {
   "cell_type": "code",
   "execution_count": 15,
   "metadata": {},
   "outputs": [
    {
     "name": "stdout",
     "output_type": "stream",
     "text": [
      "HI!\n"
     ]
    }
   ],
   "source": [
    "def yell_this (phrase):\n",
    "    print (phrase .upper() +\"!\")\n",
    "    \n",
    "yell_this (\"Hi\")"
   ]
  },
  {
   "cell_type": "code",
   "execution_count": 17,
   "metadata": {},
   "outputs": [
    {
     "name": "stdout",
     "output_type": "stream",
     "text": [
      "HI!\n",
      "HAPPY BIRTHDAY!\n"
     ]
    }
   ],
   "source": [
    "def yell_this (phrase = \"Happy Birthday\"):\n",
    "    print (phrase .upper() +\"!\")\n",
    "    \n",
    "yell_this (\"Hi\")\n",
    "yell_this()"
   ]
  },
  {
   "cell_type": "code",
   "execution_count": 23,
   "metadata": {},
   "outputs": [
    {
     "name": "stdout",
     "output_type": "stream",
     "text": [
      "20\n"
     ]
    }
   ],
   "source": [
    "def add_num(num_1 = 10):\n",
    "    print(num_1 + num_1)\n",
    "    \n",
    "add_num ()"
   ]
  },
  {
   "cell_type": "code",
   "execution_count": 29,
   "metadata": {},
   "outputs": [
    {
     "name": "stdout",
     "output_type": "stream",
     "text": [
      "let's go let's go\n"
     ]
    }
   ],
   "source": [
    "def msg_double (phrase):\n",
    "    double = phrase + \" \" + phrase\n",
    "    return double\n",
    "\n",
    "msg_2x = msg_double (\"let's go\")\n",
    "\n",
    "print (msg_2x)"
   ]
  },
  {
   "cell_type": "code",
   "execution_count": 34,
   "metadata": {},
   "outputs": [
    {
     "name": "stdout",
     "output_type": "stream",
     "text": [
      "21.0\n"
     ]
    }
   ],
   "source": [
    "def half_value(value):\n",
    "    return value/2\n",
    "\n",
    "print (half_value(42))"
   ]
  },
  {
   "cell_type": "code",
   "execution_count": 42,
   "metadata": {},
   "outputs": [
    {
     "name": "stdout",
     "output_type": "stream",
     "text": [
      "SCHEDULE: [1st] Math, [2nd] History\n"
     ]
    }
   ],
   "source": [
    "def make_schedule (period1, period2):\n",
    "    schedule = (\"[1st] \" + period1.title() + \", [2nd] \" + period2.title() )\n",
    "    return schedule\n",
    "\n",
    "student_schedule = make_schedule (\"math\", \"history\")\n",
    "\n",
    "print (\"SCHEDULE:\", student_schedule)"
   ]
  },
  {
   "cell_type": "code",
   "execution_count": 52,
   "metadata": {},
   "outputs": [
    {
     "name": "stdout",
     "output_type": "stream",
     "text": [
      "Student: Crishelle Stegelmeier\n",
      "Age: 27\n",
      "School: BYU\n"
     ]
    }
   ],
   "source": [
    "def format_info (name, age, school):\n",
    "    return \"Student: \" + name + \"\\nAge: \" + str(age) + \"\\nSchool: \" + school\n",
    "\n",
    "print (format_info (\"Crishelle Stegelmeier\", 27, \"BYU\"))"
   ]
  },
  {
   "cell_type": "code",
   "execution_count": 58,
   "metadata": {},
   "outputs": [
    {
     "name": "stdout",
     "output_type": "stream",
     "text": [
      "20\n"
     ]
    }
   ],
   "source": [
    "def add_num(num_1):\n",
    "    return num_1 + num_1\n",
    "\n",
    "print(add_num(10))"
   ]
  },
  {
   "cell_type": "code",
   "execution_count": 59,
   "metadata": {},
   "outputs": [
    {
     "name": "stdout",
     "output_type": "stream",
     "text": [
      "110\n"
     ]
    }
   ],
   "source": [
    "def add_numbers(num_1, num_2 = 10):\n",
    "    return num_1 + num_2\n",
    "\n",
    "print(add_numbers(100))"
   ]
  },
  {
   "cell_type": "code",
   "execution_count": 63,
   "metadata": {},
   "outputs": [
    {
     "name": "stdout",
     "output_type": "stream",
     "text": [
      "return this lower\n"
     ]
    }
   ],
   "source": [
    "def low_case(words_in): \n",
    "      return words_in.lower()\n",
    "    \n",
    "words_lower = low_case(\"Return THIS lower\")\n",
    "print(words_lower)"
   ]
  },
  {
   "cell_type": "code",
   "execution_count": 68,
   "metadata": {},
   "outputs": [
    {
     "name": "stdout",
     "output_type": "stream",
     "text": [
      "This hat is available True\n"
     ]
    }
   ],
   "source": [
    "def hat_available (color):\n",
    "    hat_colors = \"blue, black, red, green, blue, brown\"\n",
    "    return (color.lower() in hat_colors)\n",
    "\n",
    "have_hat = hat_available (\"green\")\n",
    "print (\"This hat is available\", have_hat)"
   ]
  },
  {
   "cell_type": "code",
   "execution_count": 95,
   "metadata": {},
   "outputs": [
    {
     "name": "stdout",
     "output_type": "stream",
     "text": [
      "What's your favorite type of bird? black\n",
      "You're in luck! This bird is available False\n"
     ]
    }
   ],
   "source": [
    "def bird_available (type):\n",
    "    bird_types = \"crow robin parrot eagle sandpiper hawk pigeon\"\n",
    "    return (type.lower () in bird_types)\n",
    "\n",
    "have_bird = bird_available (input (\"What's your favorite type of bird? \") )\n",
    "\n",
    "print (\"You're in luck! This bird is available\", have_bird)"
   ]
  },
  {
   "cell_type": "code",
   "execution_count": 84,
   "metadata": {},
   "outputs": [
    {
     "name": "stdout",
     "output_type": "stream",
     "text": [
      "What categories of food have you eaten in the last 24 hrs? dairy\n",
      "It is True that \"dairy\" contains \"dairy\"\n"
     ]
    }
   ],
   "source": [
    "input_test = input(\"What categories of food have you eaten in the last 24 hrs? \")\n",
    "\n",
    "# [ X] print \"True\" message if \"dairy\" is in the input or False message if not\n",
    "\n",
    "print (\"It is\", \"dairy\" .lower() in input_test .lower(), \"that\", '\"' + input_test + '\"', 'contains \"dairy\"' )\n"
   ]
  },
  {
   "cell_type": "code",
   "execution_count": 97,
   "metadata": {},
   "outputs": [
    {
     "name": "stdout",
     "output_type": "stream",
     "text": [
      "enter how many you want: 2\n",
      "2 will be ordered\n"
     ]
    }
   ],
   "source": [
    "# define function how_many\n",
    "def how_many():\n",
    "    requested = input(\"enter how many you want: \")\n",
    "    return requested\n",
    "\n",
    "# get the number_needed\n",
    "number_needed = how_many()\n",
    "print(number_needed, \"will be ordered\")"
   ]
  },
  {
   "cell_type": "code",
   "execution_count": 104,
   "metadata": {},
   "outputs": [
    {
     "name": "stdout",
     "output_type": "stream",
     "text": [
      "enter your name: george\n",
      "Hi, george\n"
     ]
    }
   ],
   "source": [
    " \n",
    "\n",
    "name = input(\"enter your name: \")  \n",
    "\n",
    " \n",
    "\n",
    "def greet(person):  \n",
    "    print(\"Hi,\", person)  \n",
    "\n",
    "greet(name)  "
   ]
  },
  {
   "cell_type": "code",
   "execution_count": 105,
   "metadata": {},
   "outputs": [],
   "source": [
    "\n",
    "\n",
    "\n",
    "\n",
    "\n",
    "\n",
    "\n"
   ]
  },
  {
   "cell_type": "code",
   "execution_count": 107,
   "metadata": {},
   "outputs": [
    {
     "name": "stdout",
     "output_type": "stream",
     "text": [
      "My name is George! \n",
      "And I like to engorge.\n"
     ]
    }
   ],
   "source": [
    "# [ X] define and call a function short_rhyme() that prints a 2 line rhyme\n",
    "\n",
    "def short_rhyme():\n",
    "    return \"My name is George! \\nAnd I like to engorge.\"\n",
    "    \n",
    "call_short_rhyme = short_rhyme()\n",
    "print (call_short_rhyme)"
   ]
  },
  {
   "cell_type": "code",
   "execution_count": 113,
   "metadata": {},
   "outputs": [
    {
     "name": "stdout",
     "output_type": "stream",
     "text": [
      "Book Title\n"
     ]
    }
   ],
   "source": [
    "# [ X] define (def) a simple function: title_it() and call the function\n",
    "# - has a string parameter: msg\n",
    "# - prints msg in Title Case\n",
    "\n",
    "def title_it(words_in): \n",
    "      return words_in.title()\n",
    "    \n",
    "words_title = title_it(\"book title\")\n",
    "print(words_title)"
   ]
  },
  {
   "cell_type": "code",
   "execution_count": 115,
   "metadata": {},
   "outputs": [
    {
     "name": "stdout",
     "output_type": "stream",
     "text": [
      "What is the title?lebron smith\n",
      "Lebron Smith\n"
     ]
    }
   ],
   "source": [
    "# [ X] get user input with prompt \"what is the title?\" \n",
    "# [ X] call title_it() using input for the string argument\n",
    "\n",
    "\n",
    "def title_it(words_in): \n",
    "      return words_in.title()\n",
    "    \n",
    "words_title = title_it(input(\"What is the title? \"))\n",
    "print(words_title)"
   ]
  },
  {
   "cell_type": "code",
   "execution_count": 120,
   "metadata": {},
   "outputs": [
    {
     "name": "stdout",
     "output_type": "stream",
     "text": [
      "What is the title? book it\n",
      "Book It—this book sucks\n"
     ]
    }
   ],
   "source": [
    "# [ X] define title_it_rtn() which returns a titled string instead of printing\n",
    "# [ X] call title_it_rtn() using input for the string argument and print the result\n",
    "\n",
    "\n",
    "\n",
    "def title_it(words_in): \n",
    "      return words_in.title()\n",
    "    \n",
    "words_title = title_it(input(\"What is the title? \"))\n",
    "\n",
    "def title_it_rtn():\n",
    "    return words_title + \" — this book is the best\"\n",
    "\n",
    "call_title_it_rtn = title_it_rtn()\n",
    "\n",
    "print(call_title_it_rtn)"
   ]
  },
  {
   "cell_type": "markdown",
   "metadata": {},
   "source": [
    "# Program: bookstore()\n",
    "create and test bookstore()\n",
    "\n",
    "bookstore() takes 2 string arguments: book & price\n",
    "\n",
    "nbookstore returns a string in sentence form\n",
    "\n",
    "bookstore() should call title_it_rtn() with book parameter\n",
    "\n",
    "gather input for book_entry and price_entry to use in calling bookstore()\n",
    "\n",
    "print the return value of bookstore()\n",
    "\n",
    "example of output:Title: The Adventures Of Sherlock Holmes, costs $12.99\n",
    "\n"
   ]
  },
  {
   "cell_type": "code",
   "execution_count": 142,
   "metadata": {},
   "outputs": [
    {
     "name": "stdout",
     "output_type": "stream",
     "text": [
      "What is the title?Book it\n",
      "What is the price? 2\n",
      "Title: Book It, Costs $2\n"
     ]
    }
   ],
   "source": [
    "# [ ] create, call and test bookstore() function\n",
    "#still needs some work. Almost there? Instructions are so confusing. \n",
    "\n",
    "def bookstore (book_entry, price_entry):\n",
    "    book_details = (book_entry.title() + price_entry)\n",
    "    return book_details\n",
    "\n",
    "book_requested = bookstore (\"Title: \" + input (\"What is the title?\") + \", Costs $\" , input(\"What is the price? \"))\n",
    "\n",
    "print (book_requested) \n"
   ]
  },
  {
   "cell_type": "code",
   "execution_count": 145,
   "metadata": {},
   "outputs": [
    {
     "name": "stdout",
     "output_type": "stream",
     "text": [
      "enter a name: george\n",
      "enter a greeting: Hey\n",
      "Hey george!\n"
     ]
    }
   ],
   "source": [
    "def make_greeting(name, greeting = \"Hello\"):\n",
    "    return (greeting + \" \" + name + \"!\")\n",
    "\n",
    "def get_name():\n",
    "    name_entry = input(\"enter a name: \")\n",
    "    return name_entry\n",
    "\n",
    "def get_greeting():\n",
    "    greeting_entry = input(\"enter a greeting: \")\n",
    "    return greeting_entry\n",
    "\n",
    "# get name and greeting, send to make_greeting \n",
    "\n",
    "print(make_greeting (get_name(), get_greeting() ) )\n",
    "\n",
    "\n"
   ]
  },
  {
   "cell_type": "markdown",
   "metadata": {},
   "source": [
    "# Program: fishstore()\n",
    "## create and test fishstore()\n",
    "\n",
    "fishstore() takes 2 string arguments: fish & price\n",
    "\n",
    "fishstore returns a string in sentence form\n",
    "\n",
    "gather input for fish_entry and price_entry to use in calling fishstore()\n",
    "\n",
    "print the return value of fishstore()\n",
    "\n",
    "example of output: Fish Type: Guppy costs $1\n",
    "\n"
   ]
  },
  {
   "cell_type": "code",
   "execution_count": 155,
   "metadata": {},
   "outputs": [
    {
     "name": "stdout",
     "output_type": "stream",
     "text": [
      "What type of fish do you want?salmon\n",
      "What is the price? 12\n",
      "Fish Type: Salmon Costs $12\n"
     ]
    }
   ],
   "source": [
    "# [ ] create, call and test fishstore() function \n",
    "# then PASTE THIS CODE into edX\n",
    "\n",
    "\n",
    "def fishstore (fish_entry, price_entry):\n",
    "    fish_details = (fish_entry.title() + price_entry)\n",
    "    return fish_details\n",
    "\n",
    "fish_requested = fishstore (\"Fish Type: \" + input (\"What type of fish do you want?\") + \" costs $\" , input(\"What is the price? \"))\n",
    "\n",
    "print (fish_requested) \n"
   ]
  },
  {
   "cell_type": "code",
   "execution_count": null,
   "metadata": {},
   "outputs": [],
   "source": []
  }
 ],
 "metadata": {
  "kernelspec": {
   "display_name": "Python 3",
   "language": "python",
   "name": "python3"
  },
  "language_info": {
   "codemirror_mode": {
    "name": "ipython",
    "version": 3
   },
   "file_extension": ".py",
   "mimetype": "text/x-python",
   "name": "python",
   "nbconvert_exporter": "python",
   "pygments_lexer": "ipython3",
   "version": "3.5.4"
  }
 },
 "nbformat": 4,
 "nbformat_minor": 2
}
